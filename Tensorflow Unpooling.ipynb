{
 "cells": [
  {
   "cell_type": "code",
   "execution_count": 1,
   "metadata": {
    "collapsed": true
   },
   "outputs": [],
   "source": [
    "import tensorflow as tf"
   ]
  },
  {
   "cell_type": "code",
   "execution_count": 2,
   "metadata": {
    "collapsed": true
   },
   "outputs": [],
   "source": [
    "def unpool(pool, ind, ksize=[1, 2, 2, 1], scope='unpool'):\n",
    "    \"\"\"\n",
    "       To unpool the tensor after  max_pool_with_argmax.\n",
    "       Args:\n",
    "           pool:      the max pooled output tensor\n",
    "           ind:       argmax indices , the second output of max_pool_with_argmax\n",
    "           ksize:     ksize should be the same as what you have used to pool\n",
    "       Return:\n",
    "           unpool:    the tensor after unpooling\n",
    "    \"\"\"\n",
    "    with tf.variable_scope(scope):\n",
    "        input_shape = pool.get_shape().as_list()\n",
    "        output_shape = (input_shape[0], input_shape[1] * ksize[1], input_shape[2] * ksize[2], input_shape[3])\n",
    "        pool_ = tf.reshape(pool, [input_shape[0] * input_shape[1] * input_shape[2] * input_shape[3]])\n",
    "        batch_range = tf.reshape(tf.range(output_shape[0], dtype=ind.dtype), shape=[input_shape[0], 1, 1, 1])\n",
    "        b = tf.ones_like(ind) * batch_range\n",
    "        b = tf.reshape(b, [input_shape[0] * input_shape[1] * input_shape[2] * input_shape[3], 1])\n",
    "        ind_ = tf.reshape(ind, [input_shape[0] * input_shape[1] * input_shape[2] * input_shape[3], 1])\n",
    "        ind_ = tf.concat([b, ind_],1)\n",
    "        ref = tf.Variable(tf.zeros([output_shape[0], output_shape[1] * output_shape[2] * output_shape[3]]))\n",
    "        ret = tf.scatter_nd_update(ref, ind_, pool_)\n",
    "        ret = tf.reshape(ret, [output_shape[0], output_shape[1], output_shape[2], output_shape[3]])\n",
    "        return ret"
   ]
  },
  {
   "cell_type": "code",
   "execution_count": null,
   "metadata": {
    "collapsed": true
   },
   "outputs": [],
   "source": []
  }
 ],
 "metadata": {
  "kernelspec": {
   "display_name": "Python 3",
   "language": "python",
   "name": "python3"
  },
  "language_info": {
   "codemirror_mode": {
    "name": "ipython",
    "version": 3
   },
   "file_extension": ".py",
   "mimetype": "text/x-python",
   "name": "python",
   "nbconvert_exporter": "python",
   "pygments_lexer": "ipython3",
   "version": "3.5.2"
  }
 },
 "nbformat": 4,
 "nbformat_minor": 2
}
